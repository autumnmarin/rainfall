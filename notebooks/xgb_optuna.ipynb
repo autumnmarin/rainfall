{
 "cells": [
  {
   "cell_type": "code",
   "execution_count": 8,
   "metadata": {},
   "outputs": [],
   "source": [
    "# XGBoost Refinement Notebook\n",
    "\n",
    "# %% -------------------- Imports and Setup --------------------\n",
    "import pandas as pd\n",
    "import numpy as np\n",
    "import sys\n",
    "import pathlib\n",
    "import random\n",
    "from xgboost import XGBClassifier\n",
    "from sklearn.model_selection import cross_val_score, StratifiedKFold, train_test_split\n",
    "from sklearn.metrics import roc_auc_score, roc_curve, accuracy_score\n",
    "import matplotlib.pyplot as plt\n",
    "import seaborn as sns\n",
    "import optuna\n",
    "from sklearn.model_selection import RepeatedStratifiedKFold\n",
    "\n",
    "\n",
    "\n",
    "\n",
    "\n",
    "# Set seed for reproducibility\n",
    "SEED = 42\n",
    "np.random.seed(SEED)\n",
    "random.seed(SEED)\n",
    "\n",
    "# Setup path\n",
    "project_root = pathlib.Path().resolve().parent\n",
    "sys.path.append(str(project_root / 'src'))\n",
    "\n",
    "import util\n"
   ]
  },
  {
   "cell_type": "code",
   "execution_count": 9,
   "metadata": {},
   "outputs": [
    {
     "name": "stdout",
     "output_type": "stream",
     "text": [
      "Train shape: (2190, 13), Test shape: (730, 12)\n"
     ]
    }
   ],
   "source": [
    "\n",
    "# %% -------------------- Load and Preprocess Data --------------------\n",
    "train_df, test_df = util.load_data('../data/train.csv', '../data/test.csv')\n",
    "\n",
    "# Separate target\n",
    "target = 'rainfall'\n",
    "train_y = train_df[target]\n",
    "train_X = train_df.drop(columns=[target, 'id'])\n",
    "test_df_no_id = test_df.drop(columns=['id'])\n",
    "\n",
    "# Preprocess\n",
    "df_train, df_test = util.preprocess_train_test(train_X, test_df_no_id)\n",
    "df_test = util.align_columns(df_train, df_test)\n"
   ]
  },
  {
   "cell_type": "code",
   "execution_count": 10,
   "metadata": {},
   "outputs": [
    {
     "name": "stderr",
     "output_type": "stream",
     "text": [
      "[I 2025-03-09 20:28:45,678] A new study created in memory with name: no-name-63fbd55d-d4fc-430c-9d8e-4ba84dfef3f5\n"
     ]
    },
    {
     "data": {
      "application/vnd.jupyter.widget-view+json": {
       "model_id": "cba568d684134a51b6f6b8e38b43350e",
       "version_major": 2,
       "version_minor": 0
      },
      "text/plain": [
       "  0%|          | 0/50 [00:00<?, ?it/s]"
      ]
     },
     "metadata": {},
     "output_type": "display_data"
    },
    {
     "name": "stdout",
     "output_type": "stream",
     "text": [
      "[I 2025-03-09 20:28:46,697] Trial 0 finished with value: 0.8838627010849234 and parameters: {'n_estimators': 1436, 'max_depth': 10, 'learning_rate': 0.026975154833351143, 'subsample': 0.7993292420985183, 'colsample_bytree': 0.5780093202212182, 'gamma': 0.7799726016810132, 'reg_alpha': 0.2904180608409973, 'reg_lambda': 4.330880728874676}. Best is trial 0 with value: 0.8838627010849234.\n",
      "[I 2025-03-09 20:28:48,755] Trial 1 finished with value: 0.8874279835390946 and parameters: {'n_estimators': 2003, 'max_depth': 8, 'learning_rate': 0.005242693862597309, 'subsample': 0.9849549260809971, 'colsample_bytree': 0.9162213204002109, 'gamma': 1.0616955533913808, 'reg_alpha': 0.9091248360355031, 'reg_lambda': 0.9170225492671691}. Best is trial 1 with value: 0.8874279835390946.\n",
      "[I 2025-03-09 20:28:49,966] Trial 2 finished with value: 0.8855985783763561 and parameters: {'n_estimators': 1260, 'max_depth': 6, 'learning_rate': 0.013518080333310006, 'subsample': 0.645614570099021, 'colsample_bytree': 0.8059264473611898, 'gamma': 0.6974693032602092, 'reg_alpha': 1.4607232426760908, 'reg_lambda': 1.8318092164684585}. Best is trial 1 with value: 0.8874279835390946.\n",
      "[I 2025-03-09 20:28:52,104] Trial 3 finished with value: 0.887433595211373 and parameters: {'n_estimators': 1640, 'max_depth': 9, 'learning_rate': 0.007918515779559376, 'subsample': 0.7571172192068059, 'colsample_bytree': 0.7962072844310213, 'gamma': 0.23225206359998862, 'reg_alpha': 3.0377242595071916, 'reg_lambda': 0.8526206184364576}. Best is trial 3 with value: 0.887433595211373.\n",
      "[I 2025-03-09 20:28:52,552] Trial 4 finished with value: 0.8902543958099512 and parameters: {'n_estimators': 662, 'max_depth': 10, 'learning_rate': 0.04619575159813624, 'subsample': 0.9041986740582306, 'colsample_bytree': 0.6523068845866853, 'gamma': 0.48836057003191935, 'reg_alpha': 3.4211651325607844, 'reg_lambda': 2.2007624686980067}. Best is trial 4 with value: 0.8902543958099512.\n",
      "[I 2025-03-09 20:28:53,149] Trial 5 finished with value: 0.8933950617283952 and parameters: {'n_estimators': 805, 'max_depth': 6, 'learning_rate': 0.00541200919075048, 'subsample': 0.954660201039391, 'colsample_bytree': 0.6293899908000085, 'gamma': 3.31261142176991, 'reg_alpha': 1.5585553804470549, 'reg_lambda': 2.600340105889054}. Best is trial 5 with value: 0.8933950617283952.\n",
      "[I 2025-03-09 20:28:53,916] Trial 6 finished with value: 0.8932547699214365 and parameters: {'n_estimators': 1867, 'max_depth': 3, 'learning_rate': 0.046618106758907395, 'subsample': 0.8875664116805573, 'colsample_bytree': 0.9697494707820946, 'gamma': 4.474136752138244, 'reg_alpha': 2.9894998940554256, 'reg_lambda': 4.609371175115584}. Best is trial 5 with value: 0.8933950617283952.\n",
      "[I 2025-03-09 20:28:54,382] Trial 7 finished with value: 0.8941376730265619 and parameters: {'n_estimators': 721, 'max_depth': 3, 'learning_rate': 0.005548777280551553, 'subsample': 0.6626651653816322, 'colsample_bytree': 0.6943386448447411, 'gamma': 1.3567451588694794, 'reg_alpha': 4.143687545759647, 'reg_lambda': 1.7837666334679465}. Best is trial 7 with value: 0.8941376730265619.\n",
      "[I 2025-03-09 20:28:54,956] Trial 8 finished with value: 0.8930321735877289 and parameters: {'n_estimators': 1202, 'max_depth': 6, 'learning_rate': 0.006916624987609981, 'subsample': 0.9010984903770198, 'colsample_bytree': 0.5372753218398854, 'gamma': 4.9344346830025865, 'reg_alpha': 3.861223846483287, 'reg_lambda': 0.993578407670862}. Best is trial 7 with value: 0.8941376730265619.\n",
      "[I 2025-03-09 20:28:55,749] Trial 9 finished with value: 0.8853123830901608 and parameters: {'n_estimators': 513, 'max_depth': 9, 'learning_rate': 0.025458179729092773, 'subsample': 0.8645035840204937, 'colsample_bytree': 0.8856351733429728, 'gamma': 0.3702232586704518, 'reg_alpha': 1.7923286427213632, 'reg_lambda': 0.5793452976256486}. Best is trial 7 with value: 0.8941376730265619.\n",
      "[I 2025-03-09 20:28:56,942] Trial 10 finished with value: 0.8934942012719791 and parameters: {'n_estimators': 2863, 'max_depth': 2, 'learning_rate': 0.0116868851747217, 'subsample': 0.5089809378074099, 'colsample_bytree': 0.7102020040921988, 'gamma': 1.9014648012590543, 'reg_alpha': 4.854683575852504, 'reg_lambda': 3.3828618987139}. Best is trial 7 with value: 0.8941376730265619.\n",
      "[I 2025-03-09 20:28:58,167] Trial 11 finished with value: 0.893408155630378 and parameters: {'n_estimators': 2868, 'max_depth': 2, 'learning_rate': 0.01222997418879601, 'subsample': 0.5057994417050963, 'colsample_bytree': 0.7168721058294292, 'gamma': 1.9905558861290245, 'reg_alpha': 4.967337279906138, 'reg_lambda': 3.405501048018993}. Best is trial 7 with value: 0.8941376730265619.\n",
      "[I 2025-03-09 20:28:59,510] Trial 12 finished with value: 0.8945997007108119 and parameters: {'n_estimators': 2978, 'max_depth': 4, 'learning_rate': 0.009560345542375165, 'subsample': 0.6071858177994055, 'colsample_bytree': 0.7145267795105018, 'gamma': 1.9299645364103433, 'reg_alpha': 4.9847932584180255, 'reg_lambda': 3.2634060011249053}. Best is trial 12 with value: 0.8945997007108119.\n",
      "[I 2025-03-09 20:29:00,616] Trial 13 finished with value: 0.8946576879910213 and parameters: {'n_estimators': 2350, 'max_depth': 4, 'learning_rate': 0.008682057318682736, 'subsample': 0.6135695058254393, 'colsample_bytree': 0.7946688051690407, 'gamma': 2.5748520701047166, 'reg_alpha': 4.049830638482716, 'reg_lambda': 3.1005510507341385}. Best is trial 13 with value: 0.8946576879910213.\n",
      "[I 2025-03-09 20:29:01,733] Trial 14 finished with value: 0.8945828656939767 and parameters: {'n_estimators': 2407, 'max_depth': 4, 'learning_rate': 0.009028795897802247, 'subsample': 0.6119868629523426, 'colsample_bytree': 0.8133846773333004, 'gamma': 3.058956479559334, 'reg_alpha': 4.270627421637063, 'reg_lambda': 3.4079558215818873}. Best is trial 13 with value: 0.8946576879910213.\n",
      "[I 2025-03-09 20:29:02,851] Trial 15 finished with value: 0.894173213617658 and parameters: {'n_estimators': 2424, 'max_depth': 4, 'learning_rate': 0.01817393925843001, 'subsample': 0.5827781406926889, 'colsample_bytree': 0.8620313930247293, 'gamma': 2.775636153102594, 'reg_alpha': 2.350373415761716, 'reg_lambda': 3.9732268205604453}. Best is trial 13 with value: 0.8946576879910213.\n",
      "[I 2025-03-09 20:29:03,973] Trial 16 finished with value: 0.8944884025439582 and parameters: {'n_estimators': 2472, 'max_depth': 5, 'learning_rate': 0.009732070470043088, 'subsample': 0.7174353784121554, 'colsample_bytree': 0.7680952508744493, 'gamma': 3.45809800695337, 'reg_alpha': 4.492509185848862, 'reg_lambda': 2.697925257543185}. Best is trial 13 with value: 0.8946576879910213.\n",
      "[I 2025-03-09 20:29:05,225] Trial 17 finished with value: 0.8940946502057615 and parameters: {'n_estimators': 2966, 'max_depth': 4, 'learning_rate': 0.0182592469086965, 'subsample': 0.5667157545569148, 'colsample_bytree': 0.6329174938490039, 'gamma': 2.20205732021701, 'reg_alpha': 3.658239879084777, 'reg_lambda': 2.99820422209812}. Best is trial 13 with value: 0.8946576879910213.\n",
      "[I 2025-03-09 20:29:06,352] Trial 18 finished with value: 0.8936316872427984 and parameters: {'n_estimators': 2254, 'max_depth': 7, 'learning_rate': 0.0074138534521206905, 'subsample': 0.6921751415440205, 'colsample_bytree': 0.9968647392428333, 'gamma': 3.9712779817206094, 'reg_alpha': 4.513215914971427, 'reg_lambda': 4.9677705425739624}. Best is trial 13 with value: 0.8946576879910213.\n",
      "[I 2025-03-09 20:29:07,720] Trial 19 finished with value: 0.8943771043771045 and parameters: {'n_estimators': 2658, 'max_depth': 5, 'learning_rate': 0.010269008294577938, 'subsample': 0.5631669788460445, 'colsample_bytree': 0.8416004091213473, 'gamma': 2.507285077111834, 'reg_alpha': 2.5103094803950468, 'reg_lambda': 3.9740990458260996}. Best is trial 13 with value: 0.8946576879910213.\n",
      "[I 2025-03-09 20:29:08,707] Trial 20 finished with value: 0.8944687616909839 and parameters: {'n_estimators': 2112, 'max_depth': 3, 'learning_rate': 0.015300425224770172, 'subsample': 0.7789861012453728, 'colsample_bytree': 0.7505796634652451, 'gamma': 1.5142782387562517, 'reg_alpha': 4.9929908160628775, 'reg_lambda': 1.5468982007612495}. Best is trial 13 with value: 0.8946576879910213.\n",
      "[I 2025-03-09 20:29:09,931] Trial 21 finished with value: 0.8945501309390197 and parameters: {'n_estimators': 2612, 'max_depth': 4, 'learning_rate': 0.009226291635477906, 'subsample': 0.6262404346654348, 'colsample_bytree': 0.8113320946181675, 'gamma': 3.029423301406538, 'reg_alpha': 4.200638137624885, 'reg_lambda': 3.2488242488267733}. Best is trial 13 with value: 0.8946576879910213.\n",
      "[I 2025-03-09 20:29:11,019] Trial 22 finished with value: 0.8940815563037786 and parameters: {'n_estimators': 2269, 'max_depth': 5, 'learning_rate': 0.0067006023658720965, 'subsample': 0.5989511667485639, 'colsample_bytree': 0.7530057527739121, 'gamma': 3.5054029001464224, 'reg_alpha': 4.370758204210594, 'reg_lambda': 3.655352298843056}. Best is trial 13 with value: 0.8946576879910213.\n",
      "[I 2025-03-09 20:29:12,366] Trial 23 finished with value: 0.8943284698840255 and parameters: {'n_estimators': 2664, 'max_depth': 4, 'learning_rate': 0.007936506002719368, 'subsample': 0.7077206482847264, 'colsample_bytree': 0.9200871835254129, 'gamma': 2.488148111335073, 'reg_alpha': 3.478138907826814, 'reg_lambda': 2.8985046449660956}. Best is trial 13 with value: 0.8946576879910213.\n",
      "[I 2025-03-09 20:29:13,553] Trial 24 finished with value: 0.8947072577628135 and parameters: {'n_estimators': 2332, 'max_depth': 5, 'learning_rate': 0.009205653627562344, 'subsample': 0.5423257535610468, 'colsample_bytree': 0.6803222620640019, 'gamma': 1.5966832390396046, 'reg_alpha': 3.939300273742407, 'reg_lambda': 2.257917135266352}. Best is trial 24 with value: 0.8947072577628135.\n",
      "[I 2025-03-09 20:29:14,444] Trial 25 finished with value: 0.8946015712682377 and parameters: {'n_estimators': 1673, 'max_depth': 7, 'learning_rate': 0.011249853469741016, 'subsample': 0.5402281526167704, 'colsample_bytree': 0.6873413235010772, 'gamma': 1.6059070610443156, 'reg_alpha': 3.9268737127011617, 'reg_lambda': 2.2074532265112383}. Best is trial 24 with value: 0.8947072577628135.\n",
      "[I 2025-03-09 20:29:15,359] Trial 26 finished with value: 0.8938140665918444 and parameters: {'n_estimators': 1691, 'max_depth': 7, 'learning_rate': 0.015016595648086892, 'subsample': 0.5416927625267899, 'colsample_bytree': 0.6721148329848076, 'gamma': 1.4871400467100937, 'reg_alpha': 3.0556305929211574, 'reg_lambda': 2.2421881176251346}. Best is trial 24 with value: 0.8947072577628135.\n",
      "[I 2025-03-09 20:29:16,372] Trial 27 finished with value: 0.8937130564908344 and parameters: {'n_estimators': 1945, 'max_depth': 7, 'learning_rate': 0.011226609704218956, 'subsample': 0.5390149592294332, 'colsample_bytree': 0.5017264526346517, 'gamma': 1.1365687629104086, 'reg_alpha': 3.88087412269397, 'reg_lambda': 0.10281132300247897}. Best is trial 24 with value: 0.8947072577628135.\n",
      "[I 2025-03-09 20:29:17,384] Trial 28 finished with value: 0.8934661429105873 and parameters: {'n_estimators': 2123, 'max_depth': 5, 'learning_rate': 0.018571973018951256, 'subsample': 0.6640002571671788, 'colsample_bytree': 0.593253053718963, 'gamma': 1.677988748875049, 'reg_alpha': 2.653278416823284, 'reg_lambda': 2.2512776813900377}. Best is trial 24 with value: 0.8947072577628135.\n",
      "[I 2025-03-09 20:29:19,019] Trial 29 finished with value: 0.8826580621025065 and parameters: {'n_estimators': 1547, 'max_depth': 8, 'learning_rate': 0.024123371847571774, 'subsample': 0.5022667183002585, 'colsample_bytree': 0.5769402848410397, 'gamma': 0.010956100728006124, 'reg_alpha': 3.320374090232253, 'reg_lambda': 1.6905517761100122}. Best is trial 24 with value: 0.8947072577628135.\n",
      "[I 2025-03-09 20:29:20,976] Trial 30 finished with value: 0.8877553310886643 and parameters: {'n_estimators': 1834, 'max_depth': 8, 'learning_rate': 0.006218351171974137, 'subsample': 0.8112271899455037, 'colsample_bytree': 0.5865573167773277, 'gamma': 1.0319170304582346, 'reg_alpha': 0.2137259003982077, 'reg_lambda': 1.323585999023396}. Best is trial 24 with value: 0.8947072577628135.\n",
      "[I 2025-03-09 20:29:21,675] Trial 31 finished with value: 0.8942424242424243 and parameters: {'n_estimators': 1328, 'max_depth': 5, 'learning_rate': 0.008723333383905189, 'subsample': 0.5329425463703379, 'colsample_bytree': 0.7171790208113492, 'gamma': 2.2736868970015434, 'reg_alpha': 4.655825202177619, 'reg_lambda': 2.9854098700836507}. Best is trial 24 with value: 0.8947072577628135.\n",
      "[I 2025-03-09 20:29:22,269] Trial 32 finished with value: 0.8945108492330713 and parameters: {'n_estimators': 1098, 'max_depth': 3, 'learning_rate': 0.013507325992339052, 'subsample': 0.5910272318908489, 'colsample_bytree': 0.675317186839524, 'gamma': 1.7881551837768948, 'reg_alpha': 3.92728589586498, 'reg_lambda': 2.422304368997963}. Best is trial 24 with value: 0.8947072577628135.\n",
      "[I 2025-03-09 20:29:23,036] Trial 33 finished with value: 0.8949981294425738 and parameters: {'n_estimators': 1495, 'max_depth': 6, 'learning_rate': 0.010467510539315099, 'subsample': 0.6304679668739175, 'colsample_bytree': 0.7714270205693624, 'gamma': 2.300132110146748, 'reg_alpha': 4.690849167629032, 'reg_lambda': 2.030763722434694}. Best is trial 33 with value: 0.8949981294425738.\n",
      "[I 2025-03-09 20:29:23,976] Trial 34 finished with value: 0.8925738870183314 and parameters: {'n_estimators': 1497, 'max_depth': 7, 'learning_rate': 0.011311080397032679, 'subsample': 0.5609526018141772, 'colsample_bytree': 0.7396736135876646, 'gamma': 2.5799793961095743, 'reg_alpha': 0.6115771361104549, 'reg_lambda': 2.0043287225848143}. Best is trial 33 with value: 0.8949981294425738.\n",
      "[I 2025-03-09 20:29:25,089] Trial 35 finished with value: 0.8930246913580245 and parameters: {'n_estimators': 1753, 'max_depth': 6, 'learning_rate': 0.013211747330768641, 'subsample': 0.6311901198045999, 'colsample_bytree': 0.7832632700987461, 'gamma': 0.8951445185185896, 'reg_alpha': 4.0331562107568155, 'reg_lambda': 1.3528798482010256}. Best is trial 33 with value: 0.8949981294425738.\n",
      "[I 2025-03-09 20:29:25,766] Trial 36 finished with value: 0.8950972689861578 and parameters: {'n_estimators': 1038, 'max_depth': 6, 'learning_rate': 0.008271086151643249, 'subsample': 0.6559904638591715, 'colsample_bytree': 0.8318617577692229, 'gamma': 2.1610292974552316, 'reg_alpha': 3.6447116466014995, 'reg_lambda': 2.0293562084083847}. Best is trial 36 with value: 0.8950972689861578.\n",
      "[I 2025-03-09 20:29:26,395] Trial 37 finished with value: 0.8949569771791995 and parameters: {'n_estimators': 916, 'max_depth': 6, 'learning_rate': 0.008020284075510718, 'subsample': 0.6592818712849658, 'colsample_bytree': 0.8466743730518109, 'gamma': 2.190256014240182, 'reg_alpha': 3.513686649740202, 'reg_lambda': 2.6131969797074137}. Best is trial 36 with value: 0.8950972689861578.\n",
      "[I 2025-03-09 20:29:27,161] Trial 38 finished with value: 0.8944313505424617 and parameters: {'n_estimators': 1002, 'max_depth': 6, 'learning_rate': 0.005997757175111003, 'subsample': 0.68080258926819, 'colsample_bytree': 0.9217142224440812, 'gamma': 2.2382846910957412, 'reg_alpha': 3.6021044381154197, 'reg_lambda': 2.605935013051816}. Best is trial 36 with value: 0.8950972689861578.\n",
      "[I 2025-03-09 20:29:27,682] Trial 39 finished with value: 0.8923662551440329 and parameters: {'n_estimators': 848, 'max_depth': 6, 'learning_rate': 0.038689165386362356, 'subsample': 0.6520710301413947, 'colsample_bytree': 0.8480319239438964, 'gamma': 1.2176278478472362, 'reg_alpha': 3.1864797158829186, 'reg_lambda': 1.9178981348723065}. Best is trial 36 with value: 0.8950972689861578.\n",
      "[I 2025-03-09 20:29:28,722] Trial 40 finished with value: 0.8917779648335205 and parameters: {'n_estimators': 956, 'max_depth': 6, 'learning_rate': 0.007488843522909982, 'subsample': 0.7296712860289355, 'colsample_bytree': 0.8306168019394014, 'gamma': 0.6984352734280734, 'reg_alpha': 2.828557739020326, 'reg_lambda': 1.2534694480942576}. Best is trial 36 with value: 0.8950972689861578.\n",
      "[I 2025-03-09 20:29:29,409] Trial 41 finished with value: 0.8945239431350541 and parameters: {'n_estimators': 1199, 'max_depth': 5, 'learning_rate': 0.008153694408595875, 'subsample': 0.6380193430250557, 'colsample_bytree': 0.87604251622266, 'gamma': 2.948231138455218, 'reg_alpha': 3.6848941777849302, 'reg_lambda': 2.4648843846089243}. Best is trial 36 with value: 0.8950972689861578.\n",
      "[I 2025-03-09 20:29:30,130] Trial 42 finished with value: 0.8945856715301159 and parameters: {'n_estimators': 1426, 'max_depth': 6, 'learning_rate': 0.01023786856541936, 'subsample': 0.6954695918692568, 'colsample_bytree': 0.7861086180665965, 'gamma': 2.7098227819232616, 'reg_alpha': 4.618546456123508, 'reg_lambda': 2.799878908697245}. Best is trial 36 with value: 0.8950972689861578.\n",
      "[I 2025-03-09 20:29:30,736] Trial 43 finished with value: 0.8939936401047512 and parameters: {'n_estimators': 603, 'max_depth': 5, 'learning_rate': 0.0050550216292699355, 'subsample': 0.7420065867317742, 'colsample_bytree': 0.8997205514028903, 'gamma': 2.157928700140237, 'reg_alpha': 2.132335025062539, 'reg_lambda': 2.09129508138228}. Best is trial 36 with value: 0.8950972689861578.\n",
      "[I 2025-03-09 20:29:31,305] Trial 44 finished with value: 0.8946791994014215 and parameters: {'n_estimators': 808, 'max_depth': 6, 'learning_rate': 0.006772709699744368, 'subsample': 0.6704410388394156, 'colsample_bytree': 0.8164656208938342, 'gamma': 2.36257858313323, 'reg_alpha': 4.187214515945284, 'reg_lambda': 1.716711292287022}. Best is trial 36 with value: 0.8950972689861578.\n",
      "[I 2025-03-09 20:29:31,889] Trial 45 finished with value: 0.8945819304152637 and parameters: {'n_estimators': 744, 'max_depth': 7, 'learning_rate': 0.0066128396431064836, 'subsample': 0.6702273957547786, 'colsample_bytree': 0.8263245431578721, 'gamma': 2.034351408405176, 'reg_alpha': 4.740413041442152, 'reg_lambda': 1.6422251210145558}. Best is trial 36 with value: 0.8950972689861578.\n",
      "[I 2025-03-09 20:29:32,639] Trial 46 finished with value: 0.8944070332959222 and parameters: {'n_estimators': 888, 'max_depth': 6, 'learning_rate': 0.006138519266655725, 'subsample': 0.7806603064262415, 'colsample_bytree': 0.9544797440107137, 'gamma': 1.8179345688060835, 'reg_alpha': 4.323288015087487, 'reg_lambda': 1.0078658812521764}. Best is trial 36 with value: 0.8950972689861578.\n",
      "[I 2025-03-09 20:29:33,375] Trial 47 finished with value: 0.8951440329218108 and parameters: {'n_estimators': 1116, 'max_depth': 6, 'learning_rate': 0.00722910837600876, 'subsample': 0.6525095024077675, 'colsample_bytree': 0.8690221066660807, 'gamma': 2.3437318378708603, 'reg_alpha': 3.309756338785025, 'reg_lambda': 1.8720158282462567}. Best is trial 47 with value: 0.8951440329218108.\n",
      "[I 2025-03-09 20:29:34,143] Trial 48 finished with value: 0.8941638608305275 and parameters: {'n_estimators': 1326, 'max_depth': 6, 'learning_rate': 0.007608663272405578, 'subsample': 0.9606241533355825, 'colsample_bytree': 0.8624474357559118, 'gamma': 2.878801021331116, 'reg_alpha': 3.413199338401239, 'reg_lambda': 2.4234405610088308}. Best is trial 47 with value: 0.8951440329218108.\n",
      "[I 2025-03-09 20:29:34,889] Trial 49 finished with value: 0.8943013468013468 and parameters: {'n_estimators': 1123, 'max_depth': 8, 'learning_rate': 0.005592096741836005, 'subsample': 0.8370912120671969, 'colsample_bytree': 0.8951791691323927, 'gamma': 3.211711013848544, 'reg_alpha': 3.2410129175471525, 'reg_lambda': 0.6871425610311135}. Best is trial 47 with value: 0.8951440329218108.\n",
      "\n",
      "===== Best Parameters from Optuna =====\n",
      "{'n_estimators': 1116, 'max_depth': 6, 'learning_rate': 0.00722910837600876, 'subsample': 0.6525095024077675, 'colsample_bytree': 0.8690221066660807, 'gamma': 2.3437318378708603, 'reg_alpha': 3.309756338785025, 'reg_lambda': 1.8720158282462567}\n"
     ]
    }
   ],
   "source": [
    "\n",
    "# %% -------------------- Optuna Hyperparameter Tuning --------------------\n",
    "def objective(trial):\n",
    "    param = {\n",
    "        'n_estimators': trial.suggest_int('n_estimators', 500, 3000),\n",
    "        'max_depth': trial.suggest_int('max_depth', 2, 10),\n",
    "        'learning_rate': trial.suggest_float('learning_rate', 0.005, 0.05, log=True),\n",
    "        'subsample': trial.suggest_float('subsample', 0.5, 1.0),\n",
    "        'colsample_bytree': trial.suggest_float('colsample_bytree', 0.5, 1.0),\n",
    "        'gamma': trial.suggest_float('gamma', 0, 5.0),  # Try larger values too\n",
    "        'reg_alpha': trial.suggest_float('reg_alpha', 0, 5.0),\n",
    "        'reg_lambda': trial.suggest_float('reg_lambda', 0, 5.0),\n",
    "        'random_state': SEED,\n",
    "        'eval_metric': 'auc'\n",
    "    }\n",
    "\n",
    "\n",
    "    model = XGBClassifier(**param)\n",
    "\n",
    "    kf = RepeatedStratifiedKFold(n_splits=5, n_repeats=3, random_state=SEED)\n",
    "    scores = cross_val_score(model, df_train, train_y, cv=kf, scoring='roc_auc', n_jobs=-1)\n",
    "\n",
    "    return scores.mean()\n",
    "\n",
    "study = optuna.create_study(direction='maximize', sampler=optuna.samplers.TPESampler(seed=SEED))\n",
    "study.optimize(objective, n_trials=50, show_progress_bar=True)\n",
    "\n",
    "print(\"\\n===== Best Parameters from Optuna =====\")\n",
    "print(study.best_params)\n"
   ]
  },
  {
   "cell_type": "code",
   "execution_count": null,
   "metadata": {},
   "outputs": [
    {
     "ename": "NameError",
     "evalue": "name 'X_val' is not defined",
     "output_type": "error",
     "traceback": [
      "\u001b[1;31m---------------------------------------------------------------------------\u001b[0m",
      "\u001b[1;31mNameError\u001b[0m                                 Traceback (most recent call last)",
      "Cell \u001b[1;32mIn[12], line 3\u001b[0m\n\u001b[0;32m      1\u001b[0m \u001b[38;5;66;03m# %% -------------------- Train and Predict with Optimized XGBoost --------------------\u001b[39;00m\n\u001b[0;32m      2\u001b[0m best_xgb_model \u001b[38;5;241m=\u001b[39m XGBClassifier(\u001b[38;5;241m*\u001b[39m\u001b[38;5;241m*\u001b[39mstudy\u001b[38;5;241m.\u001b[39mbest_params, random_state\u001b[38;5;241m=\u001b[39mSEED, eval_metric\u001b[38;5;241m=\u001b[39m\u001b[38;5;124m'\u001b[39m\u001b[38;5;124mauc\u001b[39m\u001b[38;5;124m'\u001b[39m)\n\u001b[1;32m----> 3\u001b[0m best_xgb_model\u001b[38;5;241m.\u001b[39mfit(df_train, train_y, eval_set\u001b[38;5;241m=\u001b[39m[(\u001b[43mX_val\u001b[49m, y_val)], early_stopping_rounds\u001b[38;5;241m=\u001b[39m\u001b[38;5;241m50\u001b[39m, verbose\u001b[38;5;241m=\u001b[39m\u001b[38;5;28;01mTrue\u001b[39;00m)\n\u001b[0;32m      6\u001b[0m \u001b[38;5;66;03m# Predict on test set\u001b[39;00m\n\u001b[0;32m      7\u001b[0m test_probs \u001b[38;5;241m=\u001b[39m best_xgb_model\u001b[38;5;241m.\u001b[39mpredict_proba(df_test)[:, \u001b[38;5;241m1\u001b[39m]\n",
      "\u001b[1;31mNameError\u001b[0m: name 'X_val' is not defined"
     ]
    }
   ],
   "source": [
    "\n",
    "# %% -------------------- Train and Predict with Optimized XGBoost --------------------\n",
    "best_xgb_model = XGBClassifier(**study.best_params, random_state=SEED, eval_metric='auc')\n",
    "best_xgb_model.fit(df_train, train_y)\n",
    "\n",
    "\n",
    "# Predict on test set\n",
    "test_probs = best_xgb_model.predict_proba(df_test)[:, 1]\n",
    "\n",
    "# Write submission\n",
    "util.write_submission(test_df, test_probs, id_column='id', output_path='submission_xgboost_optuna.csv', prediction_column='rainfall')\n",
    "\n",
    "# print auc\n",
    "print(f\"ROC AUC: {study.best_value:.4f}\")"
   ]
  },
  {
   "cell_type": "code",
   "execution_count": null,
   "metadata": {},
   "outputs": [],
   "source": [
    "\n",
    "# %% -------------------- Feature Importance Plot --------------------\n",
    "def plot_feature_importance(model, feature_names, top_n=20):\n",
    "    importances = model.feature_importances_\n",
    "    indices = np.argsort(importances)[::-1][:top_n]\n",
    "    plt.figure(figsize=(10, 6))\n",
    "    plt.title('Top Feature Importances')\n",
    "    plt.bar(range(len(indices)), importances[indices], align='center')\n",
    "    plt.xticks(range(len(indices)), [feature_names[i] for i in indices], rotation=90)\n",
    "    plt.tight_layout()\n",
    "    plt.show()\n",
    "\n",
    "plot_feature_importance(best_xgb_model, df_train.columns)\n"
   ]
  }
 ],
 "metadata": {
  "kernelspec": {
   "display_name": "backpackv2",
   "language": "python",
   "name": "python3"
  },
  "language_info": {
   "codemirror_mode": {
    "name": "ipython",
    "version": 3
   },
   "file_extension": ".py",
   "mimetype": "text/x-python",
   "name": "python",
   "nbconvert_exporter": "python",
   "pygments_lexer": "ipython3",
   "version": "3.11.11"
  }
 },
 "nbformat": 4,
 "nbformat_minor": 2
}
